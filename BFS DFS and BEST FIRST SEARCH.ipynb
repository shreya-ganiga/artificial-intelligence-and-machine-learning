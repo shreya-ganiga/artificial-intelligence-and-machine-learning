{
 "cells": [
  {
   "cell_type": "code",
   "execution_count": 1,
   "id": "0b8aef01",
   "metadata": {},
   "outputs": [
    {
     "name": "stdout",
     "output_type": "stream",
     "text": [
      "Following is the Breadth-First Search\n",
      "Node visited at each time step ['1', '2']\n",
      "Node visited at each time step ['1', '2', '10']\n",
      "Node visited at each time step ['1', '2', '10', '3']\n",
      "Node visited at each time step ['1', '2', '10', '3', '8']\n",
      "Node visited at each time step ['1', '2', '10', '3', '8', '4']\n",
      "Node visited at each time step ['1', '2', '10', '3', '8', '4', '9']\n",
      "Node visited at each time step ['1', '2', '10', '3', '8', '4', '9', '5']\n",
      "Node visited at each time step ['1', '2', '10', '3', '8', '4', '9', '5', '6']\n",
      "Node visited at each time step ['1', '2', '10', '3', '8', '4', '9', '5', '6', '7']\n"
     ]
    }
   ],
   "source": [
    "graph = { \n",
    "'1' : ['2','10'], \n",
    "'2' : ['3','8'], \n",
    "'3' : ['4'], \n",
    "'4' : ['5','6','7'], \n",
    "'5' : [], \n",
    "'6' : [], \n",
    "'7' : [], \n",
    " '8' : ['9'], \n",
    "'9' : [], \n",
    "'10' : [] \n",
    " } \n",
    "visited = []  \n",
    "queue = []  \n",
    "def bfs(visited, graph, node): \n",
    "    visited.append(node) \n",
    "    queue.append(node) \n",
    "    while queue:  \n",
    "        m = queue.pop(0)  \n",
    "  #print (m, end = \" \")  \n",
    "        for neighbour in graph[m]: \n",
    "          if neighbour not in visited:  \n",
    "            visited.append(neighbour) \n",
    "            queue.append(neighbour)\n",
    "            print(\"Node visited at each time step\",visited)\n",
    "\n",
    "print(\"Following is the Breadth-First Search\")\n",
    "bfs(visited, graph, '1')  \n"
   ]
  },
  {
   "cell_type": "code",
   "execution_count": 2,
   "id": "e3af8dfe",
   "metadata": {},
   "outputs": [
    {
     "name": "stdout",
     "output_type": "stream",
     "text": [
      "Following is the Depth-First Search\n",
      "5\n",
      "Node visited at each time step ['3', '7']\n",
      "3\n",
      "Node visited at each time step ['2', '4']\n",
      "2\n",
      "Node visited at each time step ['1']\n",
      "1\n",
      "Node visited at each time step []\n",
      "4\n",
      "Node visited at each time step ['8']\n",
      "8\n",
      "Node visited at each time step []\n",
      "7\n",
      "Node visited at each time step ['6']\n",
      "6\n",
      "Node visited at each time step []\n"
     ]
    }
   ],
   "source": [
    " graph = { \n",
    " '5' : ['3','7'], \n",
    " '3' : ['2', '4'], \n",
    " '7' : ['6'], \n",
    " '6': [], \n",
    " '2' : ['1'], \n",
    " '1':[], \n",
    " '4' : ['8'], \n",
    " '8' : [] \n",
    "} \n",
    "visited = set() # Set to keep track of visited nodes of graph.    \n",
    "def dfs(visited, graph, node):   #function for dfs \n",
    "  if node not in visited: \n",
    "    print (node) \n",
    "    visited.add(node) \n",
    "    print(\"Node visited at each time step\",graph[node])\n",
    "    for neighbour in graph[node]: \n",
    "        dfs(visited, graph, neighbour) \n",
    "       # Driver Code \n",
    "print(\"Following is the Depth-First Search\") \n",
    "dfs(visited, graph, '5')\n"
   ]
  },
  {
   "cell_type": "code",
   "execution_count": 1,
   "id": "2b8c6403",
   "metadata": {},
   "outputs": [
    {
     "name": "stdout",
     "output_type": "stream",
     "text": [
      "\n",
      "Enter the number of nodes: 4\n",
      "Enter the number of edges: 5\n",
      "Enter the edges along with their weights:\n",
      "0 1 1\n",
      "0 2 1\n",
      "0 3 2\n",
      "2 3 2\n",
      "1 3 3\n",
      "Enter the Source Node: 2\n",
      "Enter the Target/Destination Node: 1\n",
      "\n",
      "Path: 2 "
     ]
    }
   ],
   "source": [
    "from queue import PriorityQueue \n",
    "import matplotlib.pyplot as plt \n",
    "import networkx as nx \n",
    "# for implementing BFS | returns path having lowest cost def best_first_search(source, target, n): \n",
    "def best_first_search(source, target, n):\n",
    " visited = [0] * n \n",
    " visited[source] = True \n",
    " pq = PriorityQueue() \n",
    " pq.put((0, source)) \n",
    " while pq.empty() == False: \n",
    "  u = pq.get()[1] \n",
    "  print(u, end=\" \") # the path having lowest cost \n",
    "  if u == target: \n",
    "     break\n",
    "    \n",
    " for v, c in graph[u]: \n",
    "   if visited[v] == False: \n",
    "     pq.put((c, v)) \n",
    "print() \n",
    "# for adding edges to graph \n",
    "def addedge(x, y, cost): \n",
    "  graph[x].append((y, cost)) \n",
    "  graph[y].append((x, cost))\n",
    "\n",
    "v = int(input(\"Enter the number of nodes: \"))\n",
    "graph = [[] for i in range(v)] # undirected Graph\n",
    "e = int(input(\"Enter the number of edges: \")) \n",
    "print(\"Enter the edges along with their weights:\") \n",
    "for i in range(e): \n",
    "  x, y, z = list(map(int, input().split())) \n",
    "  addedge(x, y, z) \n",
    "    \n",
    "source = int(input(\"Enter the Source Node: \")) \n",
    "target = int(input(\"Enter the Target/Destination Node: \"))\n",
    "print(\"\\nPath: \", end = \"\") \n",
    "best_first_search(source, target, v) \n"
   ]
  },
  {
   "cell_type": "code",
   "execution_count": null,
   "id": "52bc060f",
   "metadata": {},
   "outputs": [],
   "source": []
  }
 ],
 "metadata": {
  "kernelspec": {
   "display_name": "Python 3 (ipykernel)",
   "language": "python",
   "name": "python3"
  },
  "language_info": {
   "codemirror_mode": {
    "name": "ipython",
    "version": 3
   },
   "file_extension": ".py",
   "mimetype": "text/x-python",
   "name": "python",
   "nbconvert_exporter": "python",
   "pygments_lexer": "ipython3",
   "version": "3.9.7"
  }
 },
 "nbformat": 4,
 "nbformat_minor": 5
}
